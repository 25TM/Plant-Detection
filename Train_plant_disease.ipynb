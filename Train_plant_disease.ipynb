{
 "cells": [
  {
   "cell_type": "code",
   "execution_count": 3,
   "id": "4b8715a5",
   "metadata": {},
   "outputs": [
    {
     "name": "stdout",
     "output_type": "stream",
     "text": [
      "WARNING:tensorflow:From C:\\Users\\manoy\\anaconda3\\lib\\site-packages\\keras\\src\\losses.py:2976: The name tf.losses.sparse_softmax_cross_entropy is deprecated. Please use tf.compat.v1.losses.sparse_softmax_cross_entropy instead.\n",
      "\n"
     ]
    }
   ],
   "source": [
    "import tensorflow as tf\n",
    "import matplotlib.pyplot as plt\n",
    "import pandas as pd\n",
    "import seaborn as sns"
   ]
  },
  {
   "cell_type": "code",
   "execution_count": 4,
   "id": "6dadc4e4",
   "metadata": {},
   "outputs": [],
   "source": [
    "import tensorflow as tf"
   ]
  },
  {
   "cell_type": "code",
   "execution_count": 24,
   "id": "d0c67c7d",
   "metadata": {},
   "outputs": [
    {
     "name": "stdout",
     "output_type": "stream",
     "text": [
      "Found 70295 files belonging to 38 classes.\n"
     ]
    }
   ],
   "source": [
    "training_set = tf.keras.utils.image_dataset_from_directory(\n",
    "    'train',\n",
    "    labels=\"inferred\",\n",
    "    label_mode=\"categorical\",\n",
    "    class_names=None,\n",
    "    color_mode=\"rgb\",\n",
    "    batch_size=32,\n",
    "    image_size=(128, 128),\n",
    "    shuffle=True,\n",
    "    seed=None,\n",
    "    validation_split=None,\n",
    "    subset=None,\n",
    "    interpolation=\"bilinear\",\n",
    "    follow_links=False,\n",
    "    crop_to_aspect_ratio=False\n",
    ")"
   ]
  },
  {
   "cell_type": "code",
   "execution_count": 25,
   "id": "4be70c4c",
   "metadata": {},
   "outputs": [
    {
     "name": "stdout",
     "output_type": "stream",
     "text": [
      "Found 17572 files belonging to 38 classes.\n"
     ]
    }
   ],
   "source": [
    "validation_set = tf.keras.utils.image_dataset_from_directory(\n",
    "    'valid',\n",
    "    labels=\"inferred\",\n",
    "    label_mode=\"categorical\",\n",
    "    class_names=None,\n",
    "    color_mode=\"rgb\",\n",
    "    batch_size=32,\n",
    "    image_size=(128, 128),\n",
    "    shuffle=True,\n",
    "    seed=None,\n",
    "    validation_split=None,\n",
    "    subset=None,\n",
    "    interpolation=\"bilinear\",\n",
    "    follow_links=False,\n",
    "    crop_to_aspect_ratio=False\n",
    ")"
   ]
  },
  {
   "cell_type": "code",
   "execution_count": 26,
   "id": "9f1cb0f2",
   "metadata": {},
   "outputs": [
    {
     "data": {
      "text/plain": [
       "<_PrefetchDataset element_spec=(TensorSpec(shape=(None, 128, 128, 3), dtype=tf.float32, name=None), TensorSpec(shape=(None, 38), dtype=tf.float32, name=None))>"
      ]
     },
     "execution_count": 26,
     "metadata": {},
     "output_type": "execute_result"
    }
   ],
   "source": [
    "training_set"
   ]
  },
  {
   "cell_type": "code",
   "execution_count": 27,
   "id": "58472a36",
   "metadata": {},
   "outputs": [
    {
     "name": "stdout",
     "output_type": "stream",
     "text": [
      "tf.Tensor(\n",
      "[[[[172.25 135.25 126.25]\n",
      "   [175.   138.   129.  ]\n",
      "   [175.   138.   129.  ]\n",
      "   ...\n",
      "   [174.75 140.75 130.75]\n",
      "   [176.25 142.25 132.25]\n",
      "   [173.5  139.5  129.5 ]]\n",
      "\n",
      "  [[171.75 134.75 125.75]\n",
      "   [174.   137.   128.  ]\n",
      "   [168.75 131.75 122.75]\n",
      "   ...\n",
      "   [169.   135.   125.  ]\n",
      "   [175.   141.   131.  ]\n",
      "   [172.25 138.25 128.25]]\n",
      "\n",
      "  [[172.   135.   126.  ]\n",
      "   [167.5  130.5  121.5 ]\n",
      "   [163.5  126.5  117.5 ]\n",
      "   ...\n",
      "   [172.75 138.75 128.75]\n",
      "   [178.25 144.25 134.25]\n",
      "   [174.5  140.5  130.5 ]]\n",
      "\n",
      "  ...\n",
      "\n",
      "  [[129.5   91.5   80.5 ]\n",
      "   [133.    95.    84.  ]\n",
      "   [139.25 101.25  90.25]\n",
      "   ...\n",
      "   [131.75  97.75  85.75]\n",
      "   [129.5   95.5   83.5 ]\n",
      "   [136.5  102.5   90.5 ]]\n",
      "\n",
      "  [[133.75  95.75  84.75]\n",
      "   [138.5  100.5   89.5 ]\n",
      "   [132.75  94.75  83.75]\n",
      "   ...\n",
      "   [132.25  98.25  86.25]\n",
      "   [128.75  94.75  82.75]\n",
      "   [127.25  93.25  81.25]]\n",
      "\n",
      "  [[132.75  94.75  83.75]\n",
      "   [133.5   95.5   84.5 ]\n",
      "   [134.5   96.5   85.5 ]\n",
      "   ...\n",
      "   [131.75  97.75  85.75]\n",
      "   [128.25  94.25  82.25]\n",
      "   [133.5   99.5   87.5 ]]]\n",
      "\n",
      "\n",
      " [[[141.   173.   124.  ]\n",
      "   [135.5  167.5  118.5 ]\n",
      "   [135.   167.   118.  ]\n",
      "   ...\n",
      "   [120.   159.    77.5 ]\n",
      "   [110.25 144.25  69.25]\n",
      "   [127.5  157.5   87.  ]]\n",
      "\n",
      "  [[147.25 179.25 132.25]\n",
      "   [139.25 171.25 124.25]\n",
      "   [137.75 169.75 122.75]\n",
      "   ...\n",
      "   [122.75 162.    78.75]\n",
      "   [111.5  145.75  68.25]\n",
      "   [130.25 160.25  87.25]]\n",
      "\n",
      "  [[165.   193.75 150.5 ]\n",
      "   [152.75 181.5  138.25]\n",
      "   [147.   175.75 132.5 ]\n",
      "   ...\n",
      "   [107.75 147.5   61.75]\n",
      "   [103.75 138.5   58.75]\n",
      "   [128.25 159.25  83.25]]\n",
      "\n",
      "  ...\n",
      "\n",
      "  [[174.25 201.25 166.25]\n",
      "   [161.   191.   153.  ]\n",
      "   [161.   193.   154.  ]\n",
      "   ...\n",
      "   [ 40.    80.    19.  ]\n",
      "   [ 36.5   77.    12.  ]\n",
      "   [ 37.5   78.75   8.75]]\n",
      "\n",
      "  [[174.25 201.25 166.25]\n",
      "   [163.5  193.5  155.5 ]\n",
      "   [160.5  192.5  153.5 ]\n",
      "   ...\n",
      "   [ 38.    78.    17.  ]\n",
      "   [ 45.    86.    18.5 ]\n",
      "   [ 34.5   76.5    2.5 ]]\n",
      "\n",
      "  [[170.5  197.5  162.5 ]\n",
      "   [162.25 192.25 154.25]\n",
      "   [159.25 191.25 152.25]\n",
      "   ...\n",
      "   [ 37.5   77.5   16.  ]\n",
      "   [ 51.5   93.    23.  ]\n",
      "   [ 44.    86.5    9.  ]]]\n",
      "\n",
      "\n",
      " [[[114.75 138.75 106.75]\n",
      "   [112.   137.   107.  ]\n",
      "   [107.5  135.   105.5 ]\n",
      "   ...\n",
      "   [  1.     1.     1.  ]\n",
      "   [  1.     1.     1.  ]\n",
      "   [  1.     1.     1.  ]]\n",
      "\n",
      "  [[ 84.   104.75  78.  ]\n",
      "   [110.75 133.5  105.  ]\n",
      "   [116.   142.5  113.25]\n",
      "   ...\n",
      "   [  1.     1.     1.  ]\n",
      "   [  1.     1.     1.  ]\n",
      "   [  1.     1.     1.  ]]\n",
      "\n",
      "  [[ 41.5   56.25  38.75]\n",
      "   [114.5  134.75 110.25]\n",
      "   [120.25 144.5  118.25]\n",
      "   ...\n",
      "   [  1.     1.     1.  ]\n",
      "   [  1.     1.     1.  ]\n",
      "   [  1.     1.     1.  ]]\n",
      "\n",
      "  ...\n",
      "\n",
      "  [[  1.     1.     1.  ]\n",
      "   [  1.     1.     1.  ]\n",
      "   [  1.     1.     1.  ]\n",
      "   ...\n",
      "   [  1.     1.     1.  ]\n",
      "   [  1.     1.     1.  ]\n",
      "   [  1.     1.     1.  ]]\n",
      "\n",
      "  [[  1.     1.     1.  ]\n",
      "   [  1.     1.     1.  ]\n",
      "   [  1.     1.     1.  ]\n",
      "   ...\n",
      "   [  1.     1.     1.  ]\n",
      "   [  1.     1.     1.  ]\n",
      "   [  1.     1.     1.  ]]\n",
      "\n",
      "  [[  1.     1.     1.  ]\n",
      "   [  1.     1.     1.  ]\n",
      "   [  1.     1.     1.  ]\n",
      "   ...\n",
      "   [  1.     1.     1.  ]\n",
      "   [  1.     1.     1.  ]\n",
      "   [  1.     1.     1.  ]]]\n",
      "\n",
      "\n",
      " ...\n",
      "\n",
      "\n",
      " [[[183.25 175.25 186.25]\n",
      "   [193.25 185.25 196.25]\n",
      "   [192.   184.   195.  ]\n",
      "   ...\n",
      "   [195.75 189.75 201.75]\n",
      "   [196.5  190.5  202.5 ]\n",
      "   [200.25 194.25 206.25]]\n",
      "\n",
      "  [[191.25 183.25 194.25]\n",
      "   [191.75 183.75 194.75]\n",
      "   [183.   175.   186.  ]\n",
      "   ...\n",
      "   [206.   200.   212.  ]\n",
      "   [207.25 201.25 213.25]\n",
      "   [199.   193.   205.  ]]\n",
      "\n",
      "  [[176.   168.   179.  ]\n",
      "   [181.75 173.75 184.75]\n",
      "   [182.75 174.75 185.75]\n",
      "   ...\n",
      "   [197.   191.   203.  ]\n",
      "   [198.75 192.75 204.75]\n",
      "   [204.5  198.5  210.5 ]]\n",
      "\n",
      "  ...\n",
      "\n",
      "  [[213.   207.   221.  ]\n",
      "   [194.   188.   202.  ]\n",
      "   [196.25 190.25 204.25]\n",
      "   ...\n",
      "   [188.25 184.25 199.25]\n",
      "   [194.   190.   205.  ]\n",
      "   [194.   190.   205.  ]]\n",
      "\n",
      "  [[191.   185.   199.  ]\n",
      "   [199.   193.   207.  ]\n",
      "   [198.25 192.25 206.25]\n",
      "   ...\n",
      "   [198.25 194.25 209.25]\n",
      "   [192.   188.   203.  ]\n",
      "   [195.75 191.75 206.75]]\n",
      "\n",
      "  [[192.5  186.5  200.5 ]\n",
      "   [190.   184.   198.  ]\n",
      "   [183.5  177.5  191.5 ]\n",
      "   ...\n",
      "   [194.5  190.5  205.5 ]\n",
      "   [196.75 192.75 207.75]\n",
      "   [194.75 190.75 205.75]]]\n",
      "\n",
      "\n",
      " [[[108.75 112.75 149.75]\n",
      "   [112.25 116.25 153.25]\n",
      "   [114.   118.   155.  ]\n",
      "   ...\n",
      "   [149.5  153.5  182.5 ]\n",
      "   [147.75 151.75 180.75]\n",
      "   [147.25 151.25 180.25]]\n",
      "\n",
      "  [[112.25 116.25 153.25]\n",
      "   [112.75 116.75 153.75]\n",
      "   [114.5  118.5  155.5 ]\n",
      "   ...\n",
      "   [150.25 154.25 183.25]\n",
      "   [149.   153.   182.  ]\n",
      "   [151.5  155.5  184.5 ]]\n",
      "\n",
      "  [[113.   117.   154.  ]\n",
      "   [113.5  117.5  154.5 ]\n",
      "   [115.25 119.25 156.25]\n",
      "   ...\n",
      "   [151.75 155.75 184.75]\n",
      "   [151.5  155.5  184.5 ]\n",
      "   [147.5  151.5  180.5 ]]\n",
      "\n",
      "  ...\n",
      "\n",
      "  [[ 29.25  35.25  57.25]\n",
      "   [ 29.25  35.25  57.25]\n",
      "   [ 26.25  32.25  54.25]\n",
      "   ...\n",
      "   [128.   124.   147.  ]\n",
      "   [133.25 129.25 152.25]\n",
      "   [140.5  136.5  159.5 ]]\n",
      "\n",
      "  [[ 28.    34.    56.  ]\n",
      "   [ 32.    38.    60.  ]\n",
      "   [ 26.25  32.25  54.25]\n",
      "   ...\n",
      "   [130.75 126.75 149.75]\n",
      "   [133.   129.   152.  ]\n",
      "   [139.25 135.25 158.25]]\n",
      "\n",
      "  [[ 29.25  35.25  57.25]\n",
      "   [ 25.75  31.75  53.75]\n",
      "   [ 26.5   32.5   54.5 ]\n",
      "   ...\n",
      "   [141.25 137.25 160.25]\n",
      "   [123.25 119.25 142.25]\n",
      "   [127.75 123.75 146.75]]]\n",
      "\n",
      "\n",
      " [[[108.5   99.5  102.5 ]\n",
      "   [100.25  91.25  94.25]\n",
      "   [106.    97.   100.  ]\n",
      "   ...\n",
      "   [113.25 103.25 102.25]\n",
      "   [105.5   95.5   94.5 ]\n",
      "   [115.5  105.5  104.5 ]]\n",
      "\n",
      "  [[108.5   99.5  102.5 ]\n",
      "   [109.5  100.5  103.5 ]\n",
      "   [ 94.    85.    88.  ]\n",
      "   ...\n",
      "   [117.5  107.5  106.5 ]\n",
      "   [102.    92.    91.  ]\n",
      "   [111.   101.   100.  ]]\n",
      "\n",
      "  [[109.   100.   103.  ]\n",
      "   [106.25  97.25 100.25]\n",
      "   [101.25  92.25  95.25]\n",
      "   ...\n",
      "   [122.   112.   111.  ]\n",
      "   [119.75 109.75 108.75]\n",
      "   [123.75 113.75 112.75]]\n",
      "\n",
      "  ...\n",
      "\n",
      "  [[161.75 156.75 163.75]\n",
      "   [156.   151.   158.  ]\n",
      "   [158.25 153.25 160.25]\n",
      "   ...\n",
      "   [199.5  195.5  196.5 ]\n",
      "   [206.5  202.5  203.5 ]\n",
      "   [205.75 201.75 202.75]]\n",
      "\n",
      "  [[162.75 157.75 164.75]\n",
      "   [155.25 150.25 157.25]\n",
      "   [155.75 150.75 157.75]\n",
      "   ...\n",
      "   [205.25 201.25 202.25]\n",
      "   [202.75 198.75 199.75]\n",
      "   [203.75 199.75 200.75]]\n",
      "\n",
      "  [[157.5  152.5  159.5 ]\n",
      "   [148.25 143.25 150.25]\n",
      "   [147.25 142.25 149.25]\n",
      "   ...\n",
      "   [195.5  191.5  192.5 ]\n",
      "   [199.5  195.5  196.5 ]\n",
      "   [205.25 201.25 202.25]]]], shape=(32, 128, 128, 3), dtype=float32) (32, 128, 128, 3)\n",
      "tf.Tensor(\n",
      "[[0. 0. 0. ... 0. 0. 0.]\n",
      " [0. 0. 0. ... 0. 0. 0.]\n",
      " [0. 0. 0. ... 0. 0. 0.]\n",
      " ...\n",
      " [0. 0. 0. ... 0. 0. 0.]\n",
      " [0. 0. 0. ... 0. 0. 0.]\n",
      " [0. 0. 0. ... 0. 0. 0.]], shape=(32, 38), dtype=float32) (32, 38)\n"
     ]
    }
   ],
   "source": [
    "for x, y in training_set:\n",
    "    print(x,x.shape)\n",
    "    print(y,y.shape)\n",
    "    break\n"
   ]
  },
  {
   "cell_type": "markdown",
   "id": "62ac19d7",
   "metadata": {},
   "source": [
    "Building Model"
   ]
  },
  {
   "cell_type": "code",
   "execution_count": 28,
   "id": "dd034fca",
   "metadata": {},
   "outputs": [],
   "source": [
    "from tensorflow.keras.layers import Dense, Conv2D,MaxPool2D,Flatten,Dropout\n",
    "from tensorflow.keras.models import Sequential"
   ]
  },
  {
   "cell_type": "code",
   "execution_count": 29,
   "id": "3d50979b",
   "metadata": {},
   "outputs": [],
   "source": [
    "model =Sequential()"
   ]
  },
  {
   "cell_type": "markdown",
   "id": "5af137fd",
   "metadata": {},
   "source": [
    "Convolution Layer"
   ]
  },
  {
   "cell_type": "code",
   "execution_count": 30,
   "id": "781bbb16",
   "metadata": {},
   "outputs": [],
   "source": [
    "model.add(Conv2D(filters=32,kernel_size=3,padding='same',activation='relu',input_shape=[128,128,3]))\n",
    "model.add(Conv2D(filters=32,kernel_size=3,activation='relu'))\n",
    "model.add(MaxPool2D(pool_size =2,strides=2))"
   ]
  },
  {
   "cell_type": "code",
   "execution_count": 31,
   "id": "7939ed79",
   "metadata": {},
   "outputs": [],
   "source": [
    "model.add(Conv2D(filters=64,kernel_size=3,padding='same',activation='relu'))\n",
    "model.add(Conv2D(filters=64,kernel_size=3,activation='relu'))\n",
    "model.add(MaxPool2D(pool_size =2,strides=2))"
   ]
  },
  {
   "cell_type": "code",
   "execution_count": 32,
   "id": "f62ec240",
   "metadata": {},
   "outputs": [],
   "source": [
    "model.add(Conv2D(filters=128,kernel_size=3,padding='same',activation='relu'))\n",
    "model.add(Conv2D(filters=128,kernel_size=3,activation='relu'))\n",
    "model.add(MaxPool2D(pool_size =2,strides=2))"
   ]
  },
  {
   "cell_type": "code",
   "execution_count": 33,
   "id": "d5b5ce6d",
   "metadata": {},
   "outputs": [],
   "source": [
    "model.add(Conv2D(filters=256,kernel_size=3,padding='same',activation='relu'))\n",
    "model.add(Conv2D(filters=256,kernel_size=3,activation='relu'))\n",
    "model.add(MaxPool2D(pool_size =2,strides=2))"
   ]
  },
  {
   "cell_type": "code",
   "execution_count": 34,
   "id": "aab96629",
   "metadata": {},
   "outputs": [],
   "source": [
    "model.add(Conv2D(filters=512,kernel_size=3,padding='same',activation='relu'))\n",
    "model.add(Conv2D(filters=512,kernel_size=3,activation='relu'))\n",
    "model.add(MaxPool2D(pool_size =2,strides=2))"
   ]
  },
  {
   "cell_type": "code",
   "execution_count": 35,
   "id": "54984508",
   "metadata": {},
   "outputs": [],
   "source": [
    "model.add(Dropout(0.25))"
   ]
  },
  {
   "cell_type": "code",
   "execution_count": 36,
   "id": "c005510a",
   "metadata": {},
   "outputs": [],
   "source": [
    "model.add(Flatten())"
   ]
  },
  {
   "cell_type": "code",
   "execution_count": 37,
   "id": "c93cbf18",
   "metadata": {},
   "outputs": [],
   "source": [
    "model.add(Dense(units=1500,activation='relu'))"
   ]
  },
  {
   "cell_type": "code",
   "execution_count": 38,
   "id": "30670836",
   "metadata": {},
   "outputs": [],
   "source": [
    "model.add(Dropout(0.4))"
   ]
  },
  {
   "cell_type": "code",
   "execution_count": 39,
   "id": "c6c2f2ce",
   "metadata": {},
   "outputs": [],
   "source": [
    "#output Layer\n",
    "model.add(Dense(units=38,activation='softmax'))"
   ]
  },
  {
   "cell_type": "code",
   "execution_count": null,
   "id": "60f439a8",
   "metadata": {},
   "outputs": [],
   "source": []
  },
  {
   "cell_type": "markdown",
   "id": "8198c83d",
   "metadata": {},
   "source": [
    "Compiling Model"
   ]
  },
  {
   "cell_type": "code",
   "execution_count": 40,
   "id": "9484e4fc",
   "metadata": {},
   "outputs": [],
   "source": [
    "import tensorflow as tf"
   ]
  },
  {
   "cell_type": "code",
   "execution_count": 41,
   "id": "b8ac3e60",
   "metadata": {},
   "outputs": [],
   "source": [
    "model.compile(optimizer=tf.keras.optimizers.legacy.Adam(\n",
    "    learning_rate=0.0001), loss='categorical_crossentropy', metrics=['accuracy'])\n"
   ]
  },
  {
   "cell_type": "code",
   "execution_count": null,
   "id": "b5489e5b",
   "metadata": {},
   "outputs": [],
   "source": []
  },
  {
   "cell_type": "code",
   "execution_count": 107,
   "id": "364cf0c3",
   "metadata": {},
   "outputs": [
    {
     "name": "stdout",
     "output_type": "stream",
     "text": [
      "Model: \"sequential_1\"\n",
      "_________________________________________________________________\n",
      " Layer (type)                Output Shape              Param #   \n",
      "=================================================================\n",
      " conv2d_10 (Conv2D)          (None, 128, 128, 32)      896       \n",
      "                                                                 \n",
      " conv2d_11 (Conv2D)          (None, 126, 126, 32)      9248      \n",
      "                                                                 \n",
      " max_pooling2d_5 (MaxPoolin  (None, 63, 63, 32)        0         \n",
      " g2D)                                                            \n",
      "                                                                 \n",
      " conv2d_12 (Conv2D)          (None, 63, 63, 64)        18496     \n",
      "                                                                 \n",
      " conv2d_13 (Conv2D)          (None, 61, 61, 64)        36928     \n",
      "                                                                 \n",
      " max_pooling2d_6 (MaxPoolin  (None, 30, 30, 64)        0         \n",
      " g2D)                                                            \n",
      "                                                                 \n",
      " conv2d_14 (Conv2D)          (None, 30, 30, 128)       73856     \n",
      "                                                                 \n",
      " conv2d_15 (Conv2D)          (None, 28, 28, 128)       147584    \n",
      "                                                                 \n",
      " max_pooling2d_7 (MaxPoolin  (None, 14, 14, 128)       0         \n",
      " g2D)                                                            \n",
      "                                                                 \n",
      " conv2d_16 (Conv2D)          (None, 14, 14, 256)       295168    \n",
      "                                                                 \n",
      " conv2d_17 (Conv2D)          (None, 12, 12, 256)       590080    \n",
      "                                                                 \n",
      " max_pooling2d_8 (MaxPoolin  (None, 6, 6, 256)         0         \n",
      " g2D)                                                            \n",
      "                                                                 \n",
      " conv2d_18 (Conv2D)          (None, 6, 6, 512)         1180160   \n",
      "                                                                 \n",
      " conv2d_19 (Conv2D)          (None, 4, 4, 512)         2359808   \n",
      "                                                                 \n",
      " max_pooling2d_9 (MaxPoolin  (None, 2, 2, 512)         0         \n",
      " g2D)                                                            \n",
      "                                                                 \n",
      " dropout_2 (Dropout)         (None, 2, 2, 512)         0         \n",
      "                                                                 \n",
      " flatten_1 (Flatten)         (None, 2048)              0         \n",
      "                                                                 \n",
      " dense_2 (Dense)             (None, 1500)              3073500   \n",
      "                                                                 \n",
      " dropout_3 (Dropout)         (None, 1500)              0         \n",
      "                                                                 \n",
      " dense_3 (Dense)             (None, 38)                57038     \n",
      "                                                                 \n",
      "=================================================================\n",
      "Total params: 7842762 (29.92 MB)\n",
      "Trainable params: 7842762 (29.92 MB)\n",
      "Non-trainable params: 0 (0.00 Byte)\n",
      "_________________________________________________________________\n"
     ]
    }
   ],
   "source": [
    "model.summary()"
   ]
  },
  {
   "cell_type": "code",
   "execution_count": 53,
   "id": "aa99cb7e",
   "metadata": {
    "scrolled": true
   },
   "outputs": [
    {
     "name": "stdout",
     "output_type": "stream",
     "text": [
      "Epoch 1/10\n",
      "2197/2197 [==============================] - 2334s 1s/step - loss: 1.4010 - accuracy: 0.5895 - val_loss: 0.5854 - val_accuracy: 0.8183\n",
      "Epoch 2/10\n",
      "2197/2197 [==============================] - 2975s 1s/step - loss: 0.4443 - accuracy: 0.8575 - val_loss: 0.3024 - val_accuracy: 0.9001\n",
      "Epoch 3/10\n",
      "2197/2197 [==============================] - 3391s 2s/step - loss: 0.2702 - accuracy: 0.9121 - val_loss: 0.2427 - val_accuracy: 0.9215\n",
      "Epoch 4/10\n",
      "2197/2197 [==============================] - 3200s 1s/step - loss: 0.1808 - accuracy: 0.9411 - val_loss: 0.2334 - val_accuracy: 0.9275\n",
      "Epoch 5/10\n",
      "2197/2197 [==============================] - 2474s 1s/step - loss: 0.1346 - accuracy: 0.9566 - val_loss: 0.2168 - val_accuracy: 0.9340\n",
      "Epoch 6/10\n",
      "2197/2197 [==============================] - 2514s 1s/step - loss: 0.1045 - accuracy: 0.9648 - val_loss: 0.1584 - val_accuracy: 0.9502\n",
      "Epoch 7/10\n",
      "2197/2197 [==============================] - 2668s 1s/step - loss: 0.0876 - accuracy: 0.9711 - val_loss: 0.1196 - val_accuracy: 0.9635\n",
      "Epoch 8/10\n",
      "2197/2197 [==============================] - 2918s 1s/step - loss: 0.0715 - accuracy: 0.9763 - val_loss: 0.1047 - val_accuracy: 0.9669\n",
      "Epoch 9/10\n",
      "2197/2197 [==============================] - 2427s 1s/step - loss: 0.0613 - accuracy: 0.9794 - val_loss: 0.1490 - val_accuracy: 0.9582\n",
      "Epoch 10/10\n",
      "2197/2197 [==============================] - 2615s 1s/step - loss: 0.0566 - accuracy: 0.9813 - val_loss: 0.2198 - val_accuracy: 0.9401\n"
     ]
    }
   ],
   "source": [
    "training_accuracy = model.fit(x=training_set,validation_data=validation_set,epochs=10)"
   ]
  },
  {
   "cell_type": "code",
   "execution_count": 55,
   "id": "2e52b06f",
   "metadata": {},
   "outputs": [
    {
     "name": "stdout",
     "output_type": "stream",
     "text": [
      "2197/2197 [==============================] - 859s 391ms/step - loss: 0.0886 - accuracy: 0.9738\n"
     ]
    }
   ],
   "source": [
    "train_loss, train_acc = model.evaluate(training_set)"
   ]
  },
  {
   "cell_type": "code",
   "execution_count": 56,
   "id": "3b4112d3",
   "metadata": {},
   "outputs": [
    {
     "name": "stdout",
     "output_type": "stream",
     "text": [
      "0.08859152346849442 0.9738246202468872\n"
     ]
    }
   ],
   "source": [
    "print(train_loss,train_acc)"
   ]
  },
  {
   "cell_type": "code",
   "execution_count": 57,
   "id": "f55b56f1",
   "metadata": {},
   "outputs": [
    {
     "name": "stdout",
     "output_type": "stream",
     "text": [
      "550/550 [==============================] - 187s 340ms/step - loss: 0.2198 - accuracy: 0.9401\n"
     ]
    }
   ],
   "source": [
    "val_loss, val_acc = model.evaluate(validation_set)"
   ]
  },
  {
   "cell_type": "code",
   "execution_count": 58,
   "id": "2e8e95b8",
   "metadata": {},
   "outputs": [
    {
     "name": "stdout",
     "output_type": "stream",
     "text": [
      "0.21981701254844666 0.9400750994682312\n"
     ]
    }
   ],
   "source": [
    "print(val_loss,val_acc)"
   ]
  },
  {
   "cell_type": "markdown",
   "id": "2e593ae3",
   "metadata": {},
   "source": [
    "saving model"
   ]
  },
  {
   "cell_type": "code",
   "execution_count": 108,
   "id": "308e809f",
   "metadata": {},
   "outputs": [],
   "source": [
    "import warnings\n",
    "warnings.filterwarnings(\"ignore\", message=\".*UTF-8.*\")\n"
   ]
  },
  {
   "cell_type": "code",
   "execution_count": 109,
   "id": "f7bee583",
   "metadata": {},
   "outputs": [
    {
     "name": "stderr",
     "output_type": "stream",
     "text": [
      "C:\\Users\\manoy\\anaconda3\\lib\\site-packages\\keras\\src\\engine\\training.py:3103: UserWarning: You are saving your model as an HDF5 file via `model.save()`. This file format is considered legacy. We recommend using instead the native Keras format, e.g. `model.save('my_model.keras')`.\n",
      "  saving_api.save_model(\n"
     ]
    }
   ],
   "source": [
    "model.save(\"trained_model.h5\")"
   ]
  },
  {
   "cell_type": "code",
   "execution_count": 110,
   "id": "b29a6347",
   "metadata": {},
   "outputs": [],
   "source": [
    "model.save(\"trained_model.keras\")"
   ]
  },
  {
   "cell_type": "code",
   "execution_count": 111,
   "id": "b60b75b8",
   "metadata": {},
   "outputs": [],
   "source": [
    "from keras.models import load_model\n",
    "\n",
    "loaded_model = load_model(\"trained_model.keras\")\n"
   ]
  },
  {
   "cell_type": "code",
   "execution_count": 112,
   "id": "b827e3ef",
   "metadata": {},
   "outputs": [
    {
     "data": {
      "text/plain": [
       "{'loss': [1.4009714126586914,\n",
       "  0.4442574381828308,\n",
       "  0.2702332139015198,\n",
       "  0.18075944483280182,\n",
       "  0.13455170392990112,\n",
       "  0.10449410229921341,\n",
       "  0.08755576610565186,\n",
       "  0.07146981358528137,\n",
       "  0.061256662011146545,\n",
       "  0.05663615092635155],\n",
       " 'accuracy': [0.5895156264305115,\n",
       "  0.8574720621109009,\n",
       "  0.9120990037918091,\n",
       "  0.9410911202430725,\n",
       "  0.9565972089767456,\n",
       "  0.964762806892395,\n",
       "  0.9711074829101562,\n",
       "  0.976314127445221,\n",
       "  0.9793868660926819,\n",
       "  0.9813215732574463],\n",
       " 'val_loss': [0.5854038596153259,\n",
       "  0.30242523550987244,\n",
       "  0.24269014596939087,\n",
       "  0.23343342542648315,\n",
       "  0.2168450504541397,\n",
       "  0.15840329229831696,\n",
       "  0.11964169889688492,\n",
       "  0.10470235347747803,\n",
       "  0.1489560455083847,\n",
       "  0.21981698274612427],\n",
       " 'val_accuracy': [0.8182904720306396,\n",
       "  0.9000682830810547,\n",
       "  0.921522855758667,\n",
       "  0.9274982810020447,\n",
       "  0.9340428113937378,\n",
       "  0.9502048492431641,\n",
       "  0.963464617729187,\n",
       "  0.9669360518455505,\n",
       "  0.958172082901001,\n",
       "  0.9400750994682312]}"
      ]
     },
     "execution_count": 112,
     "metadata": {},
     "output_type": "execute_result"
    }
   ],
   "source": [
    "training_accuracy.history"
   ]
  },
  {
   "cell_type": "code",
   "execution_count": 103,
   "id": "783e7dea",
   "metadata": {},
   "outputs": [],
   "source": [
    "#Recording History in json\n",
    "import json\n",
    "with open('training_hist.json','w') as f:\n",
    "  json.dump(training_accuracy.history,f)"
   ]
  },
  {
   "cell_type": "code",
   "execution_count": 104,
   "id": "27eab178",
   "metadata": {},
   "outputs": [
    {
     "data": {
      "text/plain": [
       "[0.5895156264305115,\n",
       " 0.8574720621109009,\n",
       " 0.9120990037918091,\n",
       " 0.9410911202430725,\n",
       " 0.9565972089767456,\n",
       " 0.964762806892395,\n",
       " 0.9711074829101562,\n",
       " 0.976314127445221,\n",
       " 0.9793868660926819,\n",
       " 0.9813215732574463]"
      ]
     },
     "execution_count": 104,
     "metadata": {},
     "output_type": "execute_result"
    }
   ],
   "source": [
    "training_accuracy.history['accuracy']"
   ]
  },
  {
   "cell_type": "markdown",
   "id": "5423ad20",
   "metadata": {},
   "source": [
    "Accuracy Visualization"
   ]
  },
  {
   "cell_type": "code",
   "execution_count": 76,
   "id": "10b24b4b",
   "metadata": {},
   "outputs": [],
   "source": [
    "import matplotlib.pyplot as plt"
   ]
  },
  {
   "cell_type": "code",
   "execution_count": 77,
   "id": "8548ef69",
   "metadata": {},
   "outputs": [
    {
     "data": {
      "image/png": "[encoded data removed]",
      "text/plain": [
       "<Figure size 640x480 with 1 Axes>"
      ]
     },
     "metadata": {},
     "output_type": "display_data"
    }
   ],
   "source": [
    "epochs = [i for i in range(1,11)]\n",
    "plt.plot(epochs,training_accuracy.history['accuracy'],color='red',label='Training Accuracy')\n",
    "plt.plot(epochs,training_accuracy.history['val_accuracy'],color='blue',label='Validation Accuracy')\n",
    "plt.xlabel(\"No. of Epochs\")\n",
    "plt.ylabel(\"Accuracy result\")\n",
    "plt.title('Visualization Accuracy Result')\n",
    "plt.legend()\n",
    "plt.show()"
   ]
  },
  {
   "cell_type": "markdown",
   "id": "3b8527a3",
   "metadata": {},
   "source": [
    "Some other metrics for model evaluation"
   ]
  },
  {
   "cell_type": "code",
   "execution_count": 78,
   "id": "faa1dd97",
   "metadata": {},
   "outputs": [
    {
     "data": {
      "text/plain": [
       "['Apple___Apple_scab',\n",
       " 'Apple___Black_rot',\n",
       " 'Apple___Cedar_apple_rust',\n",
       " 'Apple___healthy',\n",
       " 'Blueberry___healthy',\n",
       " 'Cherry_(including_sour)___Powdery_mildew',\n",
       " 'Cherry_(including_sour)___healthy',\n",
       " 'Corn_(maize)___Cercospora_leaf_spot Gray_leaf_spot',\n",
       " 'Corn_(maize)___Common_rust_',\n",
       " 'Corn_(maize)___Northern_Leaf_Blight',\n",
       " 'Corn_(maize)___healthy',\n",
       " 'Grape___Black_rot',\n",
       " 'Grape___Esca_(Black_Measles)',\n",
       " 'Grape___Leaf_blight_(Isariopsis_Leaf_Spot)',\n",
       " 'Grape___healthy',\n",
       " 'Orange___Haunglongbing_(Citrus_greening)',\n",
       " 'Peach___Bacterial_spot',\n",
       " 'Peach___healthy',\n",
       " 'Pepper,_bell___Bacterial_spot',\n",
       " 'Pepper,_bell___healthy',\n",
       " 'Potato___Early_blight',\n",
       " 'Potato___Late_blight',\n",
       " 'Potato___healthy',\n",
       " 'Raspberry___healthy',\n",
       " 'Soybean___healthy',\n",
       " 'Squash___Powdery_mildew',\n",
       " 'Strawberry___Leaf_scorch',\n",
       " 'Strawberry___healthy',\n",
       " 'Tomato___Bacterial_spot',\n",
       " 'Tomato___Early_blight',\n",
       " 'Tomato___Late_blight',\n",
       " 'Tomato___Leaf_Mold',\n",
       " 'Tomato___Septoria_leaf_spot',\n",
       " 'Tomato___Spider_mites Two-spotted_spider_mite',\n",
       " 'Tomato___Target_Spot',\n",
       " 'Tomato___Tomato_Yellow_Leaf_Curl_Virus',\n",
       " 'Tomato___Tomato_mosaic_virus',\n",
       " 'Tomato___healthy']"
      ]
     },
     "execution_count": 78,
     "metadata": {},
     "output_type": "execute_result"
    }
   ],
   "source": [
    "class_name = validation_set.class_names\n",
    "class_name"
   ]
  },
  {
   "cell_type": "code",
   "execution_count": 79,
   "id": "555f62ef",
   "metadata": {},
   "outputs": [
    {
     "name": "stdout",
     "output_type": "stream",
     "text": [
      "Found 17572 files belonging to 38 classes.\n"
     ]
    }
   ],
   "source": [
    "test_set = tf.keras.utils.image_dataset_from_directory(\n",
    "    'valid',\n",
    "    labels=\"inferred\",\n",
    "    label_mode=\"categorical\",\n",
    "    class_names=None,\n",
    "    color_mode=\"rgb\",\n",
    "    batch_size=32,\n",
    "    image_size=(128, 128),\n",
    "    shuffle=False,\n",
    "    seed=None,\n",
    "    validation_split=None,\n",
    "    subset=None,\n",
    "    interpolation=\"bilinear\",\n",
    "    follow_links=False,\n",
    "    crop_to_aspect_ratio=False\n",
    ")"
   ]
  },
  {
   "cell_type": "code",
   "execution_count": 80,
   "id": "4619a100",
   "metadata": {},
   "outputs": [
    {
     "name": "stdout",
     "output_type": "stream",
     "text": [
      "550/550 [==============================] - 129s 235ms/step\n"
     ]
    },
    {
     "data": {
      "text/plain": [
       "(array([[1.00000000e+00, 1.18959387e-09, 2.77462905e-12, ...,\n",
       "         3.59956743e-18, 1.27033334e-14, 9.19979509e-15],\n",
       "        [1.00000000e+00, 5.07088403e-13, 1.60653486e-14, ...,\n",
       "         2.51928236e-21, 1.77880455e-18, 1.15941880e-15],\n",
       "        [1.00000000e+00, 4.45554026e-15, 1.51146135e-14, ...,\n",
       "         1.61287631e-24, 6.87188669e-19, 3.49080933e-15],\n",
       "        ...,\n",
       "        [1.35927616e-08, 4.18630061e-11, 2.36057378e-08, ...,\n",
       "         1.32904732e-09, 2.92685720e-09, 9.99980092e-01],\n",
       "        [1.53108900e-07, 2.37537146e-09, 1.17813016e-07, ...,\n",
       "         4.82489781e-08, 1.34421052e-08, 9.99948740e-01],\n",
       "        [1.18401950e-15, 3.07362912e-17, 2.53114769e-15, ...,\n",
       "         6.83195467e-17, 2.60615118e-15, 1.00000000e+00]], dtype=float32),\n",
       " (17572, 38))"
      ]
     },
     "execution_count": 80,
     "metadata": {},
     "output_type": "execute_result"
    }
   ],
   "source": [
    "y_pred = model.predict(test_set)\n",
    "y_pred,y_pred.shape"
   ]
  },
  {
   "cell_type": "code",
   "execution_count": 81,
   "id": "973a114d",
   "metadata": {},
   "outputs": [],
   "source": [
    "predicted_categories = tf.argmax(y_pred,axis=1)"
   ]
  },
  {
   "cell_type": "code",
   "execution_count": 82,
   "id": "c106e535",
   "metadata": {},
   "outputs": [
    {
     "data": {
      "text/plain": [
       "<tf.Tensor: shape=(17572,), dtype=int64, numpy=array([ 0,  0,  0, ..., 37, 37, 37], dtype=int64)>"
      ]
     },
     "execution_count": 82,
     "metadata": {},
     "output_type": "execute_result"
    }
   ],
   "source": [
    "predicted_categories"
   ]
  },
  {
   "cell_type": "code",
   "execution_count": 83,
   "id": "f9bc4206",
   "metadata": {},
   "outputs": [
    {
     "data": {
      "text/plain": [
       "<tf.Tensor: shape=(17572, 38), dtype=float32, numpy=\n",
       "array([[1., 0., 0., ..., 0., 0., 0.],\n",
       "       [1., 0., 0., ..., 0., 0., 0.],\n",
       "       [1., 0., 0., ..., 0., 0., 0.],\n",
       "       ...,\n",
       "       [0., 0., 0., ..., 0., 0., 1.],\n",
       "       [0., 0., 0., ..., 0., 0., 1.],\n",
       "       [0., 0., 0., ..., 0., 0., 1.]], dtype=float32)>"
      ]
     },
     "execution_count": 83,
     "metadata": {},
     "output_type": "execute_result"
    }
   ],
   "source": [
    "true_categories = tf.concat([y for x, y in test_set], axis=0)\n",
    "true_categories"
   ]
  },
  {
   "cell_type": "code",
   "execution_count": 84,
   "id": "5740286e",
   "metadata": {},
   "outputs": [
    {
     "data": {
      "text/plain": [
       "<tf.Tensor: shape=(17572,), dtype=int64, numpy=array([ 0,  0,  0, ..., 37, 37, 37], dtype=int64)>"
      ]
     },
     "execution_count": 84,
     "metadata": {},
     "output_type": "execute_result"
    }
   ],
   "source": [
    "Y_true = tf.argmax(true_categories, axis=1)\n",
    "Y_true"
   ]
  },
  {
   "cell_type": "code",
   "execution_count": 85,
   "id": "4d2a7603",
   "metadata": {},
   "outputs": [],
   "source": [
    "from sklearn.metrics import classification_report,confusion_matrix\n"
   ]
  },
  {
   "cell_type": "code",
   "execution_count": 86,
   "id": "be69d14c",
   "metadata": {},
   "outputs": [
    {
     "name": "stdout",
     "output_type": "stream",
     "text": [
      "                                                    precision    recall  f1-score   support\n",
      "\n",
      "                                Apple___Apple_scab       0.95      0.95      0.95       504\n",
      "                                 Apple___Black_rot       0.97      0.96      0.96       497\n",
      "                          Apple___Cedar_apple_rust       0.97      0.90      0.93       440\n",
      "                                   Apple___healthy       0.90      0.90      0.90       502\n",
      "                               Blueberry___healthy       0.88      0.99      0.93       454\n",
      "          Cherry_(including_sour)___Powdery_mildew       0.98      0.97      0.98       421\n",
      "                 Cherry_(including_sour)___healthy       0.99      0.95      0.97       456\n",
      "Corn_(maize)___Cercospora_leaf_spot Gray_leaf_spot       0.93      0.87      0.90       410\n",
      "                       Corn_(maize)___Common_rust_       0.87      1.00      0.93       477\n",
      "               Corn_(maize)___Northern_Leaf_Blight       0.97      0.93      0.95       477\n",
      "                            Corn_(maize)___healthy       0.97      1.00      0.99       465\n",
      "                                 Grape___Black_rot       0.98      0.98      0.98       472\n",
      "                      Grape___Esca_(Black_Measles)       0.99      0.98      0.98       480\n",
      "        Grape___Leaf_blight_(Isariopsis_Leaf_Spot)       0.99      0.99      0.99       430\n",
      "                                   Grape___healthy       1.00      0.94      0.97       423\n",
      "          Orange___Haunglongbing_(Citrus_greening)       0.98      0.99      0.99       503\n",
      "                            Peach___Bacterial_spot       0.97      0.93      0.95       459\n",
      "                                   Peach___healthy       0.98      0.89      0.93       432\n",
      "                     Pepper,_bell___Bacterial_spot       0.90      0.96      0.93       478\n",
      "                            Pepper,_bell___healthy       0.78      0.98      0.87       497\n",
      "                             Potato___Early_blight       0.94      0.97      0.95       485\n",
      "                              Potato___Late_blight       1.00      0.79      0.88       485\n",
      "                                  Potato___healthy       0.92      0.94      0.93       456\n",
      "                               Raspberry___healthy       0.99      0.94      0.96       445\n",
      "                                 Soybean___healthy       0.98      0.91      0.95       505\n",
      "                           Squash___Powdery_mildew       0.99      0.97      0.98       434\n",
      "                          Strawberry___Leaf_scorch       1.00      0.96      0.98       444\n",
      "                              Strawberry___healthy       0.99      0.97      0.98       456\n",
      "                           Tomato___Bacterial_spot       0.91      0.97      0.94       425\n",
      "                             Tomato___Early_blight       0.74      0.95      0.83       480\n",
      "                              Tomato___Late_blight       0.87      0.90      0.89       463\n",
      "                                Tomato___Leaf_Mold       0.99      0.91      0.95       470\n",
      "                       Tomato___Septoria_leaf_spot       0.88      0.84      0.86       436\n",
      "     Tomato___Spider_mites Two-spotted_spider_mite       0.95      0.90      0.92       435\n",
      "                              Tomato___Target_Spot       0.92      0.78      0.84       457\n",
      "            Tomato___Tomato_Yellow_Leaf_Curl_Virus       0.97      0.99      0.98       490\n",
      "                      Tomato___Tomato_mosaic_virus       0.96      0.99      0.97       448\n",
      "                                  Tomato___healthy       0.99      0.97      0.98       481\n",
      "\n",
      "                                          accuracy                           0.94     17572\n",
      "                                         macro avg       0.94      0.94      0.94     17572\n",
      "                                      weighted avg       0.94      0.94      0.94     17572\n",
      "\n"
     ]
    }
   ],
   "source": [
    "# Precision Recall Fscore\n",
    "print(classification_report(Y_true,predicted_categories,target_names=class_name))"
   ]
  },
  {
   "cell_type": "code",
   "execution_count": 87,
   "id": "07e0ace4",
   "metadata": {},
   "outputs": [
    {
     "data": {
      "text/plain": [
       "array([[477,   4,   1, ...,   0,   0,   0],\n",
       "       [  0, 476,   0, ...,   0,   0,   0],\n",
       "       [  0,   0, 394, ...,   1,   0,   0],\n",
       "       ...,\n",
       "       [  0,   0,   0, ..., 483,   0,   0],\n",
       "       [  0,   0,   0, ...,   0, 444,   0],\n",
       "       [  0,   0,   0, ...,   0,   1, 466]], dtype=int64)"
      ]
     },
     "execution_count": 87,
     "metadata": {},
     "output_type": "execute_result"
    }
   ],
   "source": [
    "cm =confusion_matrix(Y_true,predicted_categories)\n",
    "cm"
   ]
  },
  {
   "cell_type": "markdown",
   "id": "a72b3bbd",
   "metadata": {},
   "source": [
    "confusion matrix visulization"
   ]
  },
  {
   "cell_type": "code",
   "execution_count": 89,
   "id": "42eeceb3",
   "metadata": {},
   "outputs": [],
   "source": [
    "import seaborn as sns"
   ]
  },
  {
   "cell_type": "code",
   "execution_count": 90,
   "id": "8d6c0024",
   "metadata": {},
   "outputs": [
    {
     "data": {
      "image/png": "[encoded data removed]",
      "text/plain": [
       "<Figure size 4000x4000 with 2 Axes>"
      ]
     },
     "metadata": {},
     "output_type": "display_data"
    }
   ],
   "source": [
    "plt.figure(figsize=(40, 40))\n",
    "sns.heatmap(cm,annot=True,annot_kws={\"size\": 10})\n",
    "\n",
    "plt.xlabel('Predicted Class',fontsize = 20)\n",
    "plt.ylabel('Actual Class',fontsize = 20)\n",
    "plt.title('Plant Disease Prediction Confusion Matrix',fontsize = 25)\n",
    "plt.show()"
   ]
  },
  {
   "cell_type": "code",
   "execution_count": null,
   "id": "a0abac0c",
   "metadata": {},
   "outputs": [],
   "source": []
  }
 ],
 "metadata": {
  "kernelspec": {
   "display_name": "Python 3 (ipykernel)",
   "language": "python",
   "name": "python3"
  },
  "language_info": {
   "codemirror_mode": {
    "name": "ipython",
    "version": 3
   },
   "file_extension": ".py",
   "mimetype": "text/x-python",
   "name": "python",
   "nbconvert_exporter": "python",
   "pygments_lexer": "ipython3",
   "version": "3.9.18"
  }
 },
 "nbformat": 4,
 "nbformat_minor": 5
}
